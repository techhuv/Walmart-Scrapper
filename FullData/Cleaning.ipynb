{
 "cells": [
  {
   "cell_type": "code",
   "execution_count": 1,
   "metadata": {},
   "outputs": [],
   "source": [
    "import os\n",
    "import pandas as pd\n",
    "# os.remove(\"demofile.txt\")"
   ]
  },
  {
   "cell_type": "code",
   "execution_count": 2,
   "metadata": {},
   "outputs": [],
   "source": [
    "df = pd.read_csv (r'C:\\Users\\STARK\\Desktop\\Harshit\\Web site projects\\Walmart Scrapper\\FullData\\DatawithCat edited.csv',index_col='Unnamed: 0')"
   ]
  },
  {
   "cell_type": "code",
   "execution_count": 15,
   "metadata": {},
   "outputs": [
    {
     "data": {
      "text/plain": [
       "'Multi-Mile Wild Country Trail 4SX 275/65R18 116 T Tire'"
      ]
     },
     "execution_count": 15,
     "metadata": {},
     "output_type": "execute_result"
    }
   ],
   "source": [
    "df.at[1, 'Product Name']"
   ]
  },
  {
   "cell_type": "code",
   "execution_count": 4,
   "metadata": {},
   "outputs": [
    {
     "data": {
      "text/html": [
       "<div>\n",
       "<style scoped>\n",
       "    .dataframe tbody tr th:only-of-type {\n",
       "        vertical-align: middle;\n",
       "    }\n",
       "\n",
       "    .dataframe tbody tr th {\n",
       "        vertical-align: top;\n",
       "    }\n",
       "\n",
       "    .dataframe thead th {\n",
       "        text-align: right;\n",
       "    }\n",
       "</style>\n",
       "<table border=\"1\" class=\"dataframe\">\n",
       "  <thead>\n",
       "    <tr style=\"text-align: right;\">\n",
       "      <th></th>\n",
       "      <th>Category</th>\n",
       "      <th>Product Name</th>\n",
       "      <th>Price</th>\n",
       "      <th>Link</th>\n",
       "    </tr>\n",
       "  </thead>\n",
       "  <tbody>\n",
       "    <tr>\n",
       "      <th>84</th>\n",
       "      <td>Auto &amp; Tire</td>\n",
       "      <td>5-Tier Heavy Duty Adjustable MetalShelving Uni...</td>\n",
       "      <td>$50.97</td>\n",
       "      <td>https://i5.walmartimages.com/asr/5eeb16c9-70db...</td>\n",
       "    </tr>\n",
       "    <tr>\n",
       "      <th>87</th>\n",
       "      <td>Auto &amp; Tire</td>\n",
       "      <td>Vercelli Strada II 235/50R17 100 W Tire.</td>\n",
       "      <td>$76.29</td>\n",
       "      <td>https://i5.walmartimages.com/asr/ffe084d0-81c0...</td>\n",
       "    </tr>\n",
       "    <tr>\n",
       "      <th>90</th>\n",
       "      <td>Auto &amp; Tire</td>\n",
       "      <td>Costway 2 Pair Canoe Boat Kayak Roof Rack Car ...</td>\n",
       "      <td>$99.99</td>\n",
       "      <td>https://i5.walmartimages.com/asr/d86e30d4-d73c...</td>\n",
       "    </tr>\n",
       "    <tr>\n",
       "      <th>92</th>\n",
       "      <td>Auto &amp; Tire</td>\n",
       "      <td>Travelstar UN66 All-Season Tire - 245/50R20 102V</td>\n",
       "      <td>$94.54</td>\n",
       "      <td>https://i5.walmartimages.com/asr/6382c201-c38e...</td>\n",
       "    </tr>\n",
       "    <tr>\n",
       "      <th>95</th>\n",
       "      <td>Auto &amp; Tire</td>\n",
       "      <td>Zep Professional Truck &amp; Trailer Washes, 5 gal...</td>\n",
       "      <td>$38.99</td>\n",
       "      <td>https://i5.walmartimages.com/asr/55aca7c5-cc90...</td>\n",
       "    </tr>\n",
       "    <tr>\n",
       "      <th>...</th>\n",
       "      <td>...</td>\n",
       "      <td>...</td>\n",
       "      <td>...</td>\n",
       "      <td>...</td>\n",
       "    </tr>\n",
       "    <tr>\n",
       "      <th>24338</th>\n",
       "      <td>Video Games</td>\n",
       "      <td>LEGO Dimensions: Story Pack - New Ghostbusters</td>\n",
       "      <td>$27.56</td>\n",
       "      <td>https://i5.walmartimages.com/asr/00d9135a-6c7c...</td>\n",
       "    </tr>\n",
       "    <tr>\n",
       "      <th>24361</th>\n",
       "      <td>Video Games</td>\n",
       "      <td>Just Cause 4 Day One Limited Edition, Square E...</td>\n",
       "      <td>$13.80</td>\n",
       "      <td>https://i5.walmartimages.com/asr/32a96ef0-9382...</td>\n",
       "    </tr>\n",
       "    <tr>\n",
       "      <th>24381</th>\n",
       "      <td>Video Games</td>\n",
       "      <td>UFC 4, Electronic Arts, Xbox One</td>\n",
       "      <td>$29.96</td>\n",
       "      <td>https://i5.walmartimages.com/asr/d9773303-0856...</td>\n",
       "    </tr>\n",
       "    <tr>\n",
       "      <th>24392</th>\n",
       "      <td>Video Games</td>\n",
       "      <td>Wrist Band Strap for Nintendo Switch Joy-Con J...</td>\n",
       "      <td>$11.99</td>\n",
       "      <td>https://i5.walmartimages.com/asr/b8f0ea39-92e4...</td>\n",
       "    </tr>\n",
       "    <tr>\n",
       "      <th>24395</th>\n",
       "      <td>Video Games</td>\n",
       "      <td>Gaming Headset with Mic for Xbox One PS4 PS5 P...</td>\n",
       "      <td>$24.48 - $29.98</td>\n",
       "      <td>https://i5.walmartimages.com/asr/53e9d6db-26e3...</td>\n",
       "    </tr>\n",
       "  </tbody>\n",
       "</table>\n",
       "<p>1305 rows × 4 columns</p>\n",
       "</div>"
      ],
      "text/plain": [
       "          Category                                       Product Name  \\\n",
       "84     Auto & Tire  5-Tier Heavy Duty Adjustable MetalShelving Uni...   \n",
       "87     Auto & Tire           Vercelli Strada II 235/50R17 100 W Tire.   \n",
       "90     Auto & Tire  Costway 2 Pair Canoe Boat Kayak Roof Rack Car ...   \n",
       "92     Auto & Tire   Travelstar UN66 All-Season Tire - 245/50R20 102V   \n",
       "95     Auto & Tire  Zep Professional Truck & Trailer Washes, 5 gal...   \n",
       "...            ...                                                ...   \n",
       "24338  Video Games     LEGO Dimensions: Story Pack - New Ghostbusters   \n",
       "24361  Video Games  Just Cause 4 Day One Limited Edition, Square E...   \n",
       "24381  Video Games                   UFC 4, Electronic Arts, Xbox One   \n",
       "24392  Video Games  Wrist Band Strap for Nintendo Switch Joy-Con J...   \n",
       "24395  Video Games  Gaming Headset with Mic for Xbox One PS4 PS5 P...   \n",
       "\n",
       "                 Price                                               Link  \n",
       "84             $50.97   https://i5.walmartimages.com/asr/5eeb16c9-70db...  \n",
       "87             $76.29   https://i5.walmartimages.com/asr/ffe084d0-81c0...  \n",
       "90             $99.99   https://i5.walmartimages.com/asr/d86e30d4-d73c...  \n",
       "92             $94.54   https://i5.walmartimages.com/asr/6382c201-c38e...  \n",
       "95             $38.99   https://i5.walmartimages.com/asr/55aca7c5-cc90...  \n",
       "...                ...                                                ...  \n",
       "24338          $27.56   https://i5.walmartimages.com/asr/00d9135a-6c7c...  \n",
       "24361          $13.80   https://i5.walmartimages.com/asr/32a96ef0-9382...  \n",
       "24381          $29.96   https://i5.walmartimages.com/asr/d9773303-0856...  \n",
       "24392          $11.99   https://i5.walmartimages.com/asr/b8f0ea39-92e4...  \n",
       "24395  $24.48 - $29.98  https://i5.walmartimages.com/asr/53e9d6db-26e3...  \n",
       "\n",
       "[1305 rows x 4 columns]"
      ]
     },
     "execution_count": 4,
     "metadata": {},
     "output_type": "execute_result"
    }
   ],
   "source": [
    "duplicated  = df[df.duplicated()]\n",
    "duplicated"
   ]
  },
  {
   "cell_type": "code",
   "execution_count": 5,
   "metadata": {},
   "outputs": [],
   "source": [
    "dup_list = duplicated.index.to_list()"
   ]
  },
  {
   "cell_type": "code",
   "execution_count": 6,
   "metadata": {},
   "outputs": [
    {
     "data": {
      "text/plain": [
       "1305"
      ]
     },
     "execution_count": 6,
     "metadata": {},
     "output_type": "execute_result"
    }
   ],
   "source": [
    "len(dup_list)"
   ]
  },
  {
   "cell_type": "code",
   "execution_count": null,
   "metadata": {},
   "outputs": [],
   "source": [
    "os.remove()"
   ]
  },
  {
   "cell_type": "code",
   "execution_count": 7,
   "metadata": {},
   "outputs": [
    {
     "name": "stdout",
     "output_type": "stream",
     "text": [
      "The file does not exist\n",
      "The file does not exist\n"
     ]
    }
   ],
   "source": [
    "for i in dup_list:\n",
    "    file = str(i)+'.jpg'\n",
    "    if os.path.exists(file):\n",
    "        os.remove(file)\n",
    "    else:\n",
    "        print(\"The file does not exist\")"
   ]
  },
  {
   "cell_type": "code",
   "execution_count": null,
   "metadata": {},
   "outputs": [],
   "source": []
  }
 ],
 "metadata": {
  "kernelspec": {
   "display_name": "Python 3",
   "language": "python",
   "name": "python3"
  },
  "language_info": {
   "codemirror_mode": {
    "name": "ipython",
    "version": 3
   },
   "file_extension": ".py",
   "mimetype": "text/x-python",
   "name": "python",
   "nbconvert_exporter": "python",
   "pygments_lexer": "ipython3",
   "version": "3.8.5"
  }
 },
 "nbformat": 4,
 "nbformat_minor": 4
}
