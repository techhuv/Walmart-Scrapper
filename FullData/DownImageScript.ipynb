{
 "cells": [
  {
   "cell_type": "code",
   "execution_count": 1,
   "metadata": {},
   "outputs": [],
   "source": [
    "import urllib\n",
    "import pandas as pd"
   ]
  },
  {
   "cell_type": "code",
   "execution_count": 2,
   "metadata": {},
   "outputs": [],
   "source": [
    "df = pd.read_csv (r'/home/harshit/Desktop/Freelancing/Walmart/DatawithCat.csv')\n",
    "list1=[]\n",
    "list1=df.get('Link')\n",
    "len(list1)\n",
    "ErrorList =[]"
   ]
  },
  {
   "cell_type": "code",
   "execution_count": 3,
   "metadata": {},
   "outputs": [],
   "source": [
    "# url = \"https://i5.walmartimages.com/asr/ef0b484c-4f90-4b50-9f37-e07c7f8f1dca_1.9ab85ad7317b3bf03022768996480c08.jpeg?odnHeight=612&odnWidth=612&odnBg=ffffff\"\n",
    "# urllib.request.urlretrieve(url, \"0.jpg\")"
   ]
  },
  {
   "cell_type": "code",
   "execution_count": 3,
   "metadata": {},
   "outputs": [],
   "source": [
    "for i in range(1757,len(list1)):\n",
    "    try:\n",
    "        url=list1[i]\n",
    "        urllib.request.urlretrieve(url, str(i)+\".jpg\")\n",
    "    except:\n",
    "        ErrorList.append(i)\n",
    "    \n",
    "# 100 images: Time: 2 minute Size:1 mb"
   ]
  },
  {
   "cell_type": "code",
   "execution_count": 4,
   "metadata": {},
   "outputs": [
    {
     "data": {
      "text/plain": [
       "[3311,\n",
       " 3318,\n",
       " 3376,\n",
       " 3419,\n",
       " 3606,\n",
       " 7453,\n",
       " 8011,\n",
       " 16568,\n",
       " 16569,\n",
       " 16570,\n",
       " 16613,\n",
       " 16614,\n",
       " 16615,\n",
       " 16616,\n",
       " 16621,\n",
       " 16622,\n",
       " 16623,\n",
       " 16624,\n",
       " 16629,\n",
       " 16630,\n",
       " 16633,\n",
       " 16634,\n",
       " 16635,\n",
       " 16636,\n",
       " 16639,\n",
       " 18714,\n",
       " 19342,\n",
       " 19880,\n",
       " 22993,\n",
       " 23391]"
      ]
     },
     "execution_count": 4,
     "metadata": {},
     "output_type": "execute_result"
    }
   ],
   "source": [
    "       ErrorList"
   ]
  },
  {
   "cell_type": "code",
   "execution_count": null,
   "metadata": {},
   "outputs": [],
   "source": []
  }
 ],
 "metadata": {
  "kernelspec": {
   "display_name": "Python 3",
   "language": "python",
   "name": "python3"
  },
  "language_info": {
   "codemirror_mode": {
    "name": "ipython",
    "version": 3
   },
   "file_extension": ".py",
   "mimetype": "text/x-python",
   "name": "python",
   "nbconvert_exporter": "python",
   "pygments_lexer": "ipython3",
   "version": "3.8.5"
  }
 },
 "nbformat": 4,
 "nbformat_minor": 4
}
