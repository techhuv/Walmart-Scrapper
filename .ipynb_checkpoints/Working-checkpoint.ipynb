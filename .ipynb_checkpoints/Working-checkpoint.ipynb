{
 "cells": [
  {
   "cell_type": "code",
   "execution_count": 23,
   "metadata": {},
   "outputs": [],
   "source": [
    "#system libraries\n",
    "import os\n",
    "import random\n",
    "import time\n",
    "#selenium libraries\n",
    "from datetime import date\n",
    "import pyautogui\n",
    "import webbrowser\n",
    "# from selenium import webdriver\n",
    "import pandas as pd\n",
    "from urllib.request import Request, urlopen\n",
    "from bs4 import BeautifulSoup, NavigableString, Tag"
   ]
  },
  {
   "cell_type": "code",
   "execution_count": 24,
   "metadata": {},
   "outputs": [],
   "source": [
    "path = os.getcwd()"
   ]
  },
  {
   "cell_type": "code",
   "execution_count": 25,
   "metadata": {},
   "outputs": [],
   "source": [
    "# var chromeOptions = new ChromeOptions();\n",
    "# chromeOptions.AddUserProfilePreference(\"download.default_directory\", \"Your_Path\");\n",
    "# chromeOptions.AddUserProfilePreference(\"intl.accept_languages\", \"nl\");\n",
    "# chromeOptions.AddUserProfilePreference(\"disable-popup-blocking\", \"true\");\n",
    "# var driver = new ChromeDriver(\"Driver_Path\", chromeOptions);"
   ]
  },
  {
   "cell_type": "code",
   "execution_count": null,
   "metadata": {},
   "outputs": [],
   "source": []
  },
  {
   "cell_type": "markdown",
   "metadata": {},
   "source": [
    "# HTML File downloader code"
   ]
  },
  {
   "cell_type": "code",
   "execution_count": 26,
   "metadata": {},
   "outputs": [],
   "source": [
    "with open(r'C:\\Users\\STARK\\Desktop\\Harshit\\Web site projects\\Walmart Scrapper\\index.html', 'r',encoding='utf8') as f:\n",
    "    contents = f.read()\n",
    "    soup = BeautifulSoup(contents)"
   ]
  },
  {
   "cell_type": "code",
   "execution_count": 41,
   "metadata": {},
   "outputs": [
    {
     "data": {
      "text/plain": [
       "{'Party & Occasions': '2637'}"
      ]
     },
     "execution_count": 41,
     "metadata": {},
     "output_type": "execute_result"
    }
   ],
   "source": [
    "finalcats = {}\n",
    "mehul = soup.find('div',attrs = {'class':'b_a bf_f b_t'})\n",
    "cats = mehul.findAll('button')\n",
    "for i in range(18,19):\n",
    "    finalcats[cats[i].text]=cats[i]['data-catid']\n",
    "\n",
    "finalcats"
   ]
  },
  {
   "cell_type": "code",
   "execution_count": 42,
   "metadata": {},
   "outputs": [],
   "source": [
    "import pyautogui\n",
    "import asyncio\n",
    "import random\n",
    "\n",
    "head = 'https://www.walmart.com/search/?cat_id='\n",
    "middle='&grid=true&page='\n",
    "tail='&query='\n",
    "\n",
    "path_head = r'C:\\Users\\STARK\\Desktop\\Harshit\\Web site projects\\Walmart Scrapper\\DownData'\n",
    "\n",
    "pyautogui.PAUSE=1\n",
    "def save(i,category):\n",
    "#     time.sleep(1)\n",
    "#     pyautogui.hotkey('home')\n",
    "    pyautogui.hotkey('ctrl', 's')\n",
    "    time.sleep(1)\n",
    "    pyautogui.hotkey('backspace')\n",
    "#     time.sleep(1)\n",
    "    path_tail = category+str(i)+'.html'\n",
    "    pyautogui.typewrite(r'{}\\{}\\{}'.format(path_head,category,path_tail))\n",
    "    \n",
    "#     pyautogui.typewrite(r'C:\\Users\\STARK\\Desktop')\n",
    "#     pyautogui.typewrite(r'\\Harshit\\Web site projects\\Walmart Scrapper')\n",
    "#     pyautogui.typewrite(r'\\DownData\\Beauty'+str(i)+ '.html')\n",
    "    time.sleep(2)\n",
    "    pyautogui.hotkey('alt','s')\n",
    "#     time.sleep(1)\n",
    "    \n",
    "def load(url,num):\n",
    "    webbrowser.open_new_tab(url)\n",
    "    time.sleep(12)\n",
    "    return num\n",
    "\n",
    "\n",
    "try:\n",
    "    #create chrome driver\n",
    "    #driver = webdrivC:\\Users\\visha\\Desktop\\Harshit\\Web site projects\\NSE Freelancing Project\\24-Dec-2017.ziper.Chrome(ChromeDriverManager().install())\n",
    "    for j in finalcats:\n",
    "        os.mkdir(r'{}\\{}'.format(path_head,j))\n",
    "        for i in range(1,26):\n",
    "            neturl = head+finalcats[j]+middle+str(i)+tail\n",
    "            save(load(neturl,i),j)\n",
    "              \n",
    "except:\n",
    "    print(\"[-] Please update the chromedriver.exe in the webdriver folder according to your chrome version:https://chromedriver.chromium.org/downloads\")\n"
   ]
  },
  {
   "cell_type": "code",
   "execution_count": 44,
   "metadata": {},
   "outputs": [],
   "source": [
    "import pyautogui\n",
    "import asyncio\n",
    "import random\n",
    "\n",
    "head = 'https://www.walmart.com/search/?cat_id='\n",
    "middle='&grid=true&page='\n",
    "tail='&query='\n",
    "\n",
    "path_head = r'C:\\Users\\STARK\\Desktop\\Harshit\\Web site projects\\Walmart Scrapper\\DownData'\n",
    "\n",
    "\n",
    "def save(i,category):\n",
    "    pyautogui.hotkey('ctrl', 's')\n",
    "    time.sleep(2)\n",
    "    pyautogui.hotkey('backspace')\n",
    "    time.sleep(1)\n",
    "    path_tail = category+str(i)+'.html'\n",
    "    pyautogui.typewrite(r'{}\\{}\\{}'.format(path_head,category,path_tail))\n",
    "    \n",
    "#     pyautogui.typewrite(r'C:\\Users\\STARK\\Desktop')\n",
    "#     pyautogui.typewrite(r'\\Harshit\\Web site projects\\Walmart Scrapper')\n",
    "#     pyautogui.typewrite(r'\\DownData\\Beauty'+str(i)+ '.html')\n",
    "    time.sleep(2)\n",
    "    pyautogui.hotkey('alt','s')\n",
    "    time.sleep(1)\n",
    "    \n",
    "def load(url,num):\n",
    "    webbrowser.open_new_tab(url)\n",
    "    time.sleep(12)\n",
    "    return num\n",
    "\n",
    "\n",
    "try:\n",
    "    #create chrome driver\n",
    "    #driver = webdrivC:\\Users\\visha\\Desktop\\Harshit\\Web site projects\\NSE Freelancing Project\\24-Dec-2017.ziper.Chrome(ChromeDriverManager().install())\n",
    "    for j in finalcats:\n",
    "#         os.mkdir(j)\n",
    "        for i in [3,4]:\n",
    "            neturl = head+finalcats[j]+middle+str(i)+tail\n",
    "            save(load(neturl,i),j)\n",
    "              \n",
    "except:\n",
    "    print(\"[-] Please update the chromedriver.exe in the webdriver folder according to your chrome version:https://chromedriver.chromium.org/downloads\")\n"
   ]
  },
  {
   "cell_type": "code",
   "execution_count": 3,
   "metadata": {},
   "outputs": [],
   "source": []
  },
  {
   "cell_type": "code",
   "execution_count": 4,
   "metadata": {},
   "outputs": [],
   "source": [
    "with open(r'C:\\Users\\STARK\\Desktop\\Harshit\\Web site projects\\Walmart Scrapper\\DownData\\Beauty2.html', 'r',encoding='utf8') as f:\n",
    "    contents = f.read()\n",
    "    soup = BeautifulSoup(contents)"
   ]
  },
  {
   "cell_type": "code",
   "execution_count": 5,
   "metadata": {},
   "outputs": [],
   "source": [
    "temp = soup.find('div',attrs = {'class':'search-product-result'})"
   ]
  },
  {
   "cell_type": "code",
   "execution_count": 6,
   "metadata": {},
   "outputs": [],
   "source": [
    "temp = temp.findAll('div',attrs = {'class':'search-result-gridview-item clearfix arrange-fill'})"
   ]
  },
  {
   "cell_type": "code",
   "execution_count": 7,
   "metadata": {},
   "outputs": [],
   "source": [
    "#temp[0]"
   ]
  },
  {
   "cell_type": "code",
   "execution_count": null,
   "metadata": {},
   "outputs": [],
   "source": []
  },
  {
   "cell_type": "code",
   "execution_count": 8,
   "metadata": {},
   "outputs": [
    {
     "name": "stdout",
     "output_type": "stream",
     "text": [
      "LaCroix Razz-Cranberry Sparkling Water - 2/12pk/12 fl oz Cans, 24 / Pack (Quantity)\n"
     ]
    }
   ],
   "source": [
    "name=print(temp[0].find('a',attrs = {'class':'product-title-link line-clamp line-clamp-2 truncate-title'}).text)\n",
    "name"
   ]
  },
  {
   "cell_type": "code",
   "execution_count": 9,
   "metadata": {},
   "outputs": [
    {
     "data": {
      "text/plain": [
       "'$14.46'"
      ]
     },
     "execution_count": 9,
     "metadata": {},
     "output_type": "execute_result"
    }
   ],
   "source": [
    "price=temp[6].find('span',attrs = {'class':'price-group'}).text\n",
    "# price = price[:len(price) // 2]\n",
    "price"
   ]
  },
  {
   "cell_type": "code",
   "execution_count": 10,
   "metadata": {},
   "outputs": [],
   "source": [
    "# price=temp[4].findAll('span',attrs = {'class':'price-group'})\n",
    "# print(price[0].text+' - '+price[1].text)"
   ]
  },
  {
   "cell_type": "markdown",
   "metadata": {},
   "source": [
    "# Image Link"
   ]
  },
  {
   "cell_type": "code",
   "execution_count": 47,
   "metadata": {},
   "outputs": [
    {
     "name": "stdout",
     "output_type": "stream",
     "text": [
      "<div class=\"search-result-gridview-item clearfix arrange-fill\" data-type=\"items\"><div style=\"height: 30px;\"><div class=\"flag-and-heart grid\"><div class=\"search-result-flag gridview flag-container-clearance\"><div class=\"prod-FlagList-container\"><span data-type=\"badges\"><span class=\"flag-angle\" data-tl-id=\"flag-angle-clearance\"><span class=\"flag-angle__content\">Clearance</span></span></span></div></div><div class=\"feds-heart\" data-tl-id=\"item-tile-heart\"><i aria-checked=\"false\" aria-label=\"Save Meidong Blackhead Remover Pore Vacuum Cleaner Facial Electric Blackhead Extractor Kit Black Head Remover Tool USB Rechargeable with 3 Adjustable Suction Power to your lists\" class=\"elc-icon elc-icon-24 elc-icon-heart feds-heart-icon--hallway-gm\" role=\"checkbox\" tabindex=\"0\"></i></div></div></div><div style=\"height: 200px;\"><a class=\"search-result-productimage gridview display-block\" data-automation-id=\"fashion-item-tile-0\" href=\"https://www.walmart.com/ip/Meidong-Blackhead-Remover-Pore-Vacuum-Cleaner-Facial-Electric-Extractor-Kit-Black-Head-Tool-USB-Rechargeable-3-Adjustable-Suction-Power/916211859\" lang=\"en\"><span class=\"visuallyhidden\">Product Image</span><div class=\"orientation-square\"><img alt=\"Meidong Blackhead Remover Pore Vacuum Cleaner Facial Electric Blackhead Extractor Kit Black Head Remover Tool USB Rechargeable with 3 Adjustable Suction Power\" data-image-indicator=\"0\" data-image-src=\"https://i5.walmartimages.com/asr/a7bb3269-9b1f-4539-9015-279f152ac892.8164b55c9b774ad4208919f3edd05dbe.jpeg?odnHeight=200&amp;odnWidth=200&amp;odnBg=ffffff\" data-image-src-set=\"https://i5.walmartimages.com/asr/a7bb3269-9b1f-4539-9015-279f152ac892.8164b55c9b774ad4208919f3edd05dbe.jpeg?odnHeight=200&amp;odnWidth=200&amp;odnBg=ffffff 1x, //i5.walmartimages.com/asr/a7bb3269-9b1f-4539-9015-279f152ac892.8164b55c9b774ad4208919f3edd05dbe.jpeg?odnWidth=408&amp;odnHeight=408&amp;odnBg=ffffff 2x\" data-pnodetype=\"item-pimg\" src=\"./Beauty25_files/a7bb3269-9b1f-4539-9015-279f152ac892.8164b55c9b774ad4208919f3edd05dbe.jpeg\" srcset=\"https://i5.walmartimages.com/asr/a7bb3269-9b1f-4539-9015-279f152ac892.8164b55c9b774ad4208919f3edd05dbe.jpeg?odnHeight=200&amp;odnWidth=200&amp;odnBg=ffffff 1x, //i5.walmartimages.com/asr/a7bb3269-9b1f-4539-9015-279f152ac892.8164b55c9b774ad4208919f3edd05dbe.jpeg?odnWidth=408&amp;odnHeight=408&amp;odnBg=ffffff 2x\"/></div></a></div><div style=\"height: 40px;\"><div class=\"search-result-variants-quickview\"></div></div><div style=\"height: 0px;\"></div><div style=\"height: 48px;\"><div class=\"search-result-product-title gridview\"><span class=\"visuallyhidden\">Product Title</span><a class=\"product-title-link line-clamp line-clamp-2 truncate-title\" data-type=\"itemTitles\" href=\"https://www.walmart.com/ip/Meidong-Blackhead-Remover-Pore-Vacuum-Cleaner-Facial-Electric-Extractor-Kit-Black-Head-Tool-USB-Rechargeable-3-Adjustable-Suction-Power/916211859\" lang=\"en\" tabindex=\"-1\"><span>Meidong Blackhead Remover Pore Vacuum Cleaner Facial Electric Blackhead Extractor Kit Black Head Remover Tool USB Rechargeable with 3 Adjustable Suction Power</span></a></div></div><div style=\"height: 31px;\"><div class=\"search-result-product-rating\" data-type=\"ratings\"><div class=\"stars stars-small\"><a class=\"review-wrapper\" href=\"https://www.walmart.com/ip/Meidong-Blackhead-Remover-Pore-Vacuum-Cleaner-Facial-Electric-Extractor-Kit-Black-Head-Tool-USB-Rechargeable-3-Adjustable-Suction-Power/916211859#customer-reviews\"><div class=\"arranger stars stars-small arranger--items-center\"><span class=\"stars-container\"><span aria-hidden=\"true\" class=\"elc-icon star star-small star-rated elc-icon-star-rating\" data-automation-id=\"stars-star-0\"></span><span aria-hidden=\"true\" class=\"elc-icon star star-small star-rated elc-icon-star-rating\" data-automation-id=\"stars-star-1\"></span><span aria-hidden=\"true\" class=\"elc-icon star star-small star-rated elc-icon-star-rating\" data-automation-id=\"stars-star-2\"></span><span aria-hidden=\"true\" class=\"elc-icon star star-small star-rated elc-icon-star-rating\" data-automation-id=\"stars-star-3\"></span><span aria-hidden=\"true\" class=\"elc-icon star star-small star-empty elc-icon-star-rating\" data-automation-id=\"stars-star-4\"></span></span><span class=\"visuallyhidden hiddenStarLabel\">Average Rating:</span><span class=\"average-rating\"><span class=\"visuallyhidden\">(</span><span class=\"visuallyhidden seo-avg-rating\">4.1</span><span class=\"visuallyhidden\">)</span></span><span class=\"visuallyhidden\">out of </span><span class=\"visuallyhidden seo-best-rating\">5</span><span class=\"visuallyhidden\"> stars</span><span aria-hidden=\"true\" class=\"stars-reviews\" data-automation-id=\"stars-reviews\" tabindex=\"-1\"><span class=\"stars-reviews-count\"><span>71</span><span class=\"visuallyhidden\">ratings</span></span><span class=\"visuallyhidden\">, based on</span><span class=\"seo-review-count visuallyhidden\">71</span><span class=\"visuallyhidden\">reviews</span></span></div></a></div></div><div class=\"clearfloat\"></div></div><div style=\"height: 168px;\"><div class=\"product-price-with-fulfillment\"><span><span class=\"search-result-productprice gridview enable-2price-2\" data-automation-id=\"item-tile-price-0\" data-type=\"priceTags\"><span class=\"visuallyhidden\">Current Price</span><span class=\"price-main-block\"><span class=\"price display-inline-block arrange-fit price price-main\"><span class=\"visuallyhidden\">$12.50</span><span aria-hidden=\"true\" class=\"price-group\"><span class=\"price-currency\">$</span><span class=\"price-characteristic\">12</span><span class=\"price-mark\">.</span><span class=\"price-mantissa\">50</span></span></span></span><span><span class=\"product-list-price-block\"><span aria-hidden=\"true\" class=\"secondary-price-prefix\">List </span><span class=\"visuallyhidden\">List Price</span><span class=\"price display-inline-block arrange-fit price price-secondary\"><span class=\"visuallyhidden\">$24.99</span><span aria-hidden=\"true\" class=\"price-group\"><span class=\"price-currency\">$</span><span class=\"price-characteristic\">24</span><span class=\"price-mark\">.</span><span class=\"price-mantissa\">99</span></span></span></span></span></span></span><div class=\"search-result-product-shipping-details gridview\"><div class=\"search-result-shipping-pass\"><div class=\"ShippingMessage-container color-black font-normal\" data-tl-id=\"shipping-message-tile-shippingMessage\">2-day delivery</div><span class=\"twodayshipping-price\">on orders $35+</span></div><span><div class=\"seller-badge extra-margin-top\"><div class=\"flowtip-flyout seller-badge-flyout flowtip-flyout-animate\"><button aria-expanded=\"false\" role=\"button\" tabindex=\"0\"><div class=\"seller-badge-wrapper\" data-tl-id=\"SellerBadge-Trigger\"><span aria-hidden=\"true\" class=\"elc-icon seller-badge-icon elc-icon-check-stamp\"></span><span class=\"seller-badge-text\">Pro seller</span></div></button></div></div></span><div class=\"marketplace-sold-by\">Sold by COWIN, <span class=\"marketplace-sold-by-company-name\">fulfilled by Walmart</span></div></div><div class=\"walmart-plus-fulfillment-container walmart-plus-fulfillment\" data-automation-id=\"walmart-plus-fulfillment\"><span aria-hidden=\"true\" class=\"walmart-plus-icon\" data-automation-id=\"walmart-plus-icon\"><svg height=\"31\" viewbox=\"0 0 60 60\" width=\"31\" xmlns=\"http://www.w3.org/2000/svg\"><g fill=\"none\" transform=\"translate(0 5)\"><g fill=\"#ffc220\"><path d=\"m36.1076422 12.1192012-.8639964-9.78079699c-.0907904-.98827501 1.1304139-1.76148113 2.5532918-1.76148113 1.4251104 0 2.6418496.80148508 2.5555244 1.76148113l-.866229 9.78079699c-.0342325.6199044-.8171129 1.0418563-1.6922721 1.0418563-.8699499 0-1.6342259-.4680912-1.6863187-1.0418563\"></path><path d=\"m48.5324469 33.3374954 8.0379206 5.6327211c.8081827.5417652 2.0881774-.1004647 2.8033373-1.3313434.7099505-1.2338553.6169276-2.6745825-.2507898-3.0958012l-8.9011727-4.1376574c-.5559046-.2106038-1.309762.1815806-1.74883.9413914-.4338586.7568341-.3988821 1.6074353.0595346 1.9906895\"></path><path d=\"m48.2675178 19.07374c.4360912.7568342 1.2249252 1.2025998 1.7488301.9451125l8.9011727-4.144355c.8855777-.4271612.9577635-1.8589692.2507896-3.0928245-.7151598-1.2338555-1.9914337-1.8731087-2.8033373-1.3313434l-8.0379204 5.6386745c-.500091.3586961-.4963701 1.2249251-.0595347 1.9847359\"></path><path d=\"m36.1076422 38.6419574-.8639964 9.7807969c-.0625114.922787 1.1304139 1.7614812 2.5532918 1.7614812 1.4251104 0 2.6358961-.7962758 2.5555244-1.7614812l-.866229-9.7807969c-.0498603-.597579-.8171129-1.0426004-1.6922721-1.0426004-.8699499.0037209-1.6319933.4599051-1.6863187 1.0426004\"></path></g><path d=\"m35.7715692 32.2814998c.0260464.7843689.9101358 1.5486447 2.0286428 1.5486447 1.1170187 0 1.9966429-.7642758 2.0249218-1.5449238l.170418-4.7560734 4.7590502-.1763714c.7843689-.0260465 1.5486448-.9093916 1.5486448-2.0286429 0-1.1162744-.7642759-1.9966429-1.5449239-2.0249219l-4.7493758-.1778598-.1823248-4.7516083c-.0260465-.7843688-.9101358-1.5479006-2.0286429-1.5479006-1.1170186 0-1.996643.7635318-2.025666 1.5441796l-.1666971 4.7426782-4.762771.1897668c-.784369.0260463-1.5479007.9093916-1.5479007 2.0278985 0 1.1170188.7635317 1.9973872 1.5449239 2.0256662l4.7516083.1763713z\" fill=\"#0071dc\"></path><path d=\"m5.42974035 14.0570537c.45246325 2.2876185 1.74213238 8.926475 1.74213238 8.926475.54027684 2.7296632 1.03887945 5.5917909 1.41394767 7.8548514h.0654881c.36613803-2.4029669.94139148-4.6801668 1.5560866-7.5006203l2.1700377-9.2807061h4.8014686l2.029387 9.520333c.532835 2.6492914.9562752 4.689097 1.2896691 7.1530869h.0654882c.3668821-2.4878038.8416708-4.6124461 1.3655757-7.3316908l1.9490152-9.3417291h4.6087253l-5.7086277 21.6073531c-3.6360782.79702-5.0291886-.6667879-5.5300239-2.9901272-.4993467-2.3233394-1.4742264-6.7482513-1.4742264-6.7482513-.500091-2.4223158-.8900429-4.131704-1.1646464-6.6180194h-.069209c-.3899519 2.4625015-.7977642 4.1882619-1.4042733 6.6090892l-2.3962692 9.7473087c-3.71198478.7389737-4.99942135-.3564636-5.7145812-3.334684-.61171842-2.5518035-4.44798172-18.2726691-4.44798172-18.2726691z\" fill=\"#0071dc\"></path></g></svg></span><span aria-label=\"walmart plus free shipping\" class=\"walmart-plus-message\">free shipping</span></div></div></div><div style=\"height: 0px;\"><div class=\"search-result-ero-msg\"></div></div><div style=\"height: 0px;\"></div><div style=\"height: 0px;\"></div><div style=\"height: 36px;\"><div data-automation-id=\"item-tile-atc-0\" data-type=\"atc\"><div class=\"arranger stepper-toggle arranger--column arranger--inline\" data-tl-id=\"stepper-toggle\"><button aria-label=\"Add to cart  Meidong Blackhead Remover Pore Vacuum Cleaner Facial Electric Blackhead Extractor Kit Black Head Remover Tool USB Rechargeable with 3 Adjustable Suction Power\" class=\"button stepper-toggle__bttn button--ghost button--small\" data-offer-id=\"6453EB6E16D741078D44496FF63AA856\" data-testid=\"trigger\" data-tl-id=\"stepper-toggle-toggle-button\" tabindex=\"0\">Add to cart</button></div></div></div></div>\n",
      "https://i5.walmartimages.com/asr/a7bb3269-9b1f-4539-9015-279f152ac892.8164b55c9b774ad4208919f3edd05dbe.jpeg?odnHeight=200&odnWidth=200&odnBg=ffffff\n"
     ]
    }
   ],
   "source": [
    "image = temp[0].find('img')['data-image-src']\n",
    "print(image)"
   ]
  },
  {
   "cell_type": "markdown",
   "metadata": {},
   "source": [
    "# Image from Local File System"
   ]
  },
  {
   "cell_type": "code",
   "execution_count": 12,
   "metadata": {},
   "outputs": [
    {
     "name": "stdout",
     "output_type": "stream",
     "text": [
      "./Beauty2_files/ee5d47f4-efba-4b3e-a42e-91ab90e533af.1103a77d95ddd8b937ac799660dfcb49.jpeg\n"
     ]
    }
   ],
   "source": [
    "image = temp[0].find('img')['src']\n",
    "print(image)"
   ]
  },
  {
   "cell_type": "code",
   "execution_count": 13,
   "metadata": {},
   "outputs": [],
   "source": [
    "pnames=[]\n",
    "pprices=[]\n",
    "pimages=[]"
   ]
  },
  {
   "cell_type": "code",
   "execution_count": 14,
   "metadata": {},
   "outputs": [],
   "source": [
    "for i in range(0,len(temp)):\n",
    "    \n",
    "    name=temp[i].find('a',attrs = {'class':'product-title-link line-clamp line-clamp-2 truncate-title'}).text\n",
    "    pnames.append(name)\n",
    "    \n",
    "    if temp[i].find('span',attrs = {'class':'price price-range'}):\n",
    "        p=temp[i].findAll('span',attrs = {'class':'price-group'})\n",
    "        price=(p[0].text+' - '+p[1].text)\n",
    "        \n",
    "    else:\n",
    "        price=temp[i].find('span',attrs = {'class':'price-group'}).text\n",
    "        \n",
    "    pprices.append(price)\n",
    "    image = temp[i].find('img')['data-image-src']\n",
    "    pimages.append(image)\n",
    "    \n",
    "#     print(i,price)"
   ]
  },
  {
   "cell_type": "code",
   "execution_count": 142,
   "metadata": {},
   "outputs": [
    {
     "data": {
      "text/plain": [
       "['$11.99',\n",
       " '$19.89',\n",
       " '$4.98',\n",
       " '$0.98',\n",
       " '$4.97',\n",
       " '$3.88',\n",
       " '$14.46',\n",
       " '$23.99',\n",
       " '$8.09',\n",
       " '$6.49',\n",
       " '$5.67',\n",
       " '$12.99',\n",
       " '$6.44',\n",
       " '$9.01 - $35.99',\n",
       " '$7.94',\n",
       " '$19.99',\n",
       " '$4.88',\n",
       " '$24.30',\n",
       " '$6.98',\n",
       " '$7.94',\n",
       " '$11.30',\n",
       " '$5.50',\n",
       " '$8.99',\n",
       " '$7.69',\n",
       " '$3.39',\n",
       " '$0.82',\n",
       " '$5.74',\n",
       " '$4.48',\n",
       " '$4.88',\n",
       " '$1.97',\n",
       " '$8.04',\n",
       " '$6.80',\n",
       " '$6.59',\n",
       " '$4.03',\n",
       " '$8.99',\n",
       " '$11.99',\n",
       " '$5.26',\n",
       " '$6.76',\n",
       " '$9.99',\n",
       " '$4.86']"
      ]
     },
     "execution_count": 142,
     "metadata": {},
     "output_type": "execute_result"
    }
   ],
   "source": [
    "pprices"
   ]
  },
  {
   "cell_type": "code",
   "execution_count": 143,
   "metadata": {},
   "outputs": [],
   "source": [
    "# Printing jugaaaaaaaaaaaaaaaaaaaaaaaaaaaaaaaaaaaaaaaaaaaaaaaaaaaaaaaaaaaad'\n",
    "# pprices[4]='$19.50 - \\\\$36.50'"
   ]
  },
  {
   "cell_type": "code",
   "execution_count": 144,
   "metadata": {},
   "outputs": [],
   "source": [
    "import pandas as pd\n",
    "df=pd.DataFrame()\n",
    "df['Product Name']=pnames\n",
    "df['Price']=pprices\n",
    "df['Link']=pimages"
   ]
  },
  {
   "cell_type": "code",
   "execution_count": 146,
   "metadata": {},
   "outputs": [
    {
     "name": "stdout",
     "output_type": "stream",
     "text": [
      "                                                                                                                                          Product Name  \\\n",
      "0   LaCroix Razz-Cranberry Sparkling Water - 2/12pk/12 fl oz Cans, 24 / Pack (Quantity)                                                                  \n",
      "1   Neutrogena Rainbath Refreshing Shower and Bath Gel, Original, 32 oz                                                                                  \n",
      "2   Suave Kids 3 in 1 Shampoo Conditioner Body Wash Purely Fun Moisturizing 28 oz                                                                        \n",
      "3   wet n wild MegaWear Mascara, Very Black                                                                                                              \n",
      "4   30 Count, Burts Bees Micellar Makeup Removing Towelettes with Rose Water                                                                             \n",
      "5   TRESemm Clean & Replenish, Deep Cleansing Conditioner Vitamin C & Green Tea Hair Formula for Lightweight Moisture 28 oz                              \n",
      "6   ChapStick Classic Strawberry Flavor 0.15 Ounce, Skin Protectant, Lip Care, 12 CT (0.15 oz each)                                                      \n",
      "7   Freeman Feeling Beautiful Clay Face Mask Anti-Stress Dead Sea Minerals, 0.5 fl oz                                                                    \n",
      "8   (Pack of 4) Dial Antibacterial Liquid Hand Soap, Spring Water, 11 Ounce                                                                              \n",
      "9   Lever 2000 Bar Soap Original 4 oz 12 Bars                                                                                                            \n",
      "10  Irish Spring Aloe Vera Bar Soap, 3.7 Ounce, 12 Bar Pack                                                                                              \n",
      "11  WAHL HomeCut Complete Hair Clipper Kit, Model 9243-2301                                                                                              \n",
      "12  Convenience Kits International, Women's Deluxe 10 PC Travel Kit Featuring: Herbal Essences Shampoo and Conditioner                                   \n",
      "13  Neutrogena Hydro Boost Gel Hand Cream with Hyaluronic Acid, 3 oz                                                                                     \n",
      "14  (2 pack) Softsoap Exfoliating Body Wash, Coconut Butter Scrub, 20 Ounce                                                                              \n",
      "15  TruSkin Vitamin C Serum for Face with Hyaluronic Acid, Vitamin E, Witch Hazel                                                                        \n",
      "16  Jergens Bar Soap Mild Soap, 8 ct                                                                                                                     \n",
      "17  Olay Age Defying Beauty Bar Soap for Women, 3.17 oz, 12 ct                                                                                           \n",
      "18  Maybelline Eyestudio Hyper Easy Liquid Eyeliner, Eye Makeup, Pitch Black, 0.018 fl. oz.                                                              \n",
      "19  (2 Pack) Softsoap Moisturizing Body Wash, Juicy Pomegranate and Mango, 20 Ounce                                                                      \n",
      "20  Neutrogena Gentle Oil-Free Eye Makeup Remover & Cleanser, 8.0 fl. oz.                                                                                \n",
      "21  Goody Ouchless No Metal Gentle Elastics, Assorted Colors, 70 Ct                                                                                      \n",
      "22  Mr. Bubble Original Bubble Bath,16oz, 2 Pack                                                                                                         \n",
      "23  BIC Flex 5 Hybrid Men's Disposable Razor, Five Blade, 4 Refill Blade Cartridges, For a Smooth and Close Shave                                        \n",
      "24  eos flavorlab Lip Balm Stick & Sphere - Boost , Mango Melonade , Moisuturzing Shea Butter for Chapped Lips , 0.39 oz , 2 count                       \n",
      "25  Carmex Daily Care Moisturizing Lip Balm Stick in Strawberry - 0.15 OZ                                                                                \n",
      "26  Swissco Suction Cup Mirror 20x Magnification, 88106                                                                                                  \n",
      "27  African Pride Moisture Miracle Pre-Shampoo 12oz                                                                                                      \n",
      "28  HoMedics Quatro Mini Massager, NOV-30-9CTM                                                                                                           \n",
      "29  Rave 4X Mega Unscented Hairspray With ClimaShield, 11.0 FL OZ                                                                                        \n",
      "30  Burt's Bees 100% Natural Moisturizing Lip Balm, Multipack, 4 Count                                                                                   \n",
      "31  Convenience Kits International Men's Deluxe 10 Piece Travel Kit, TSA Compliant, in Reusable Clear Zippered Bag Featuring: Barbasol Shave Cream       \n",
      "32  Suave Deep Moisture Moisturizing Shampoo and Conditioner 28 oz, 2 count                                                                              \n",
      "33  Calgon Moisturizing Bath Fizzies, Lavender & Honey, 8 Ct, 2.1 oz ea                                                                                  \n",
      "34  Mr. Bubble Extra Gentle Fragrance Free Bubble Bath, 16oz, 2 Pack                                                                                     \n",
      "35  Toe Nail Clippers for Thick Nails and Ingrown Toenails, Heavy Duty Toenail Clippers, One of the Large Nail Nipper, Especially Suitable for Seniors   \n",
      "36  Ogilvie Home Perm for Color-Treated, Thin or Delicate Hair, 1 Application                                                                            \n",
      "37  eos 100% Natural & Organic Lip Balm Stick - Variety Pack , Moisuturzing Shea Butter for Chapped Lips , 0.14 oz , 4 count                             \n",
      "38  Willstar 15 In 1 Manicure Pedicure Set Nail Clippers - Stainless Steel Professional Pedicure Nail Scissors Grooming Kit                              \n",
      "39  Dr Teal's Epsom Salt Body Scrub with Lavender, 16 oz                                                                                                 \n",
      "\n",
      "             Price  \\\n",
      "0   $11.99           \n",
      "1   $19.89           \n",
      "2   $4.98            \n",
      "3   $0.98            \n",
      "4   $4.97            \n",
      "5   $3.88            \n",
      "6   $14.46           \n",
      "7   $23.99           \n",
      "8   $8.09            \n",
      "9   $6.49            \n",
      "10  $5.67            \n",
      "11  $12.99           \n",
      "12  $6.44            \n",
      "13  $9.01 - $35.99   \n",
      "14  $7.94            \n",
      "15  $19.99           \n",
      "16  $4.88            \n",
      "17  $24.30           \n",
      "18  $6.98            \n",
      "19  $7.94            \n",
      "20  $11.30           \n",
      "21  $5.50            \n",
      "22  $8.99            \n",
      "23  $7.69            \n",
      "24  $3.39            \n",
      "25  $0.82            \n",
      "26  $5.74            \n",
      "27  $4.48            \n",
      "28  $4.88            \n",
      "29  $1.97            \n",
      "30  $8.04            \n",
      "31  $6.80            \n",
      "32  $6.59            \n",
      "33  $4.03            \n",
      "34  $8.99            \n",
      "35  $11.99           \n",
      "36  $5.26            \n",
      "37  $6.76            \n",
      "38  $9.99            \n",
      "39  $4.86            \n",
      "\n",
      "                                                                                                                                                     Link  \n",
      "0   https://i5.walmartimages.com/asr/ee5d47f4-efba-4b3e-a42e-91ab90e533af.1103a77d95ddd8b937ac799660dfcb49.jpeg?odnHeight=200&odnWidth=200&odnBg=ffffff    \n",
      "1   https://i5.walmartimages.com/asr/e32ad09a-c751-42c3-8fe0-2f96c0e5f8c6.d436f447ffe0bed355e0c508ba1896c5.jpeg?odnHeight=200&odnWidth=200&odnBg=ffffff    \n",
      "2   https://i5.walmartimages.com/asr/eae72f5e-2aa0-4e79-9f05-9a2b730ffa8b.5a00636974fced0ffce449d5337d97c2.jpeg?odnHeight=200&odnWidth=200&odnBg=ffffff    \n",
      "3   https://i5.walmartimages.com/asr/5acc1b20-bfcb-4126-a4c2-91f2008b7a35_1.4713809eb2efe4bca77fe089a1a13103.jpeg?odnHeight=200&odnWidth=200&odnBg=ffffff  \n",
      "4   https://i5.walmartimages.com/asr/6e186c22-c16a-4fa4-847c-0caa3edd7a1a.14374709515f69264a95cb56b17f8804.jpeg?odnHeight=200&odnWidth=200&odnBg=ffffff    \n",
      "5   https://i5.walmartimages.com/asr/7c0716ca-8055-45b1-ae9c-647d866bed7d.616d7a80f0b17e8038635bc9357eaebf.jpeg?odnHeight=200&odnWidth=200&odnBg=ffffff    \n",
      "6   https://i5.walmartimages.com/asr/62ffcf6b-b130-48e5-84b0-0f9cefeab97c.3b9d86c849930448c7c1a9a25374d995.jpeg?odnHeight=200&odnWidth=200&odnBg=ffffff    \n",
      "7   https://i5.walmartimages.com/asr/4a4f3f50-feef-44d0-93f3-1d7250fa4b3f_1.3fce8993477c39dc7b6d018046be6525.jpeg?odnHeight=200&odnWidth=200&odnBg=ffffff  \n",
      "8   https://i5.walmartimages.com/asr/33847c86-4c1a-4b9a-a76a-96763f1f6839_2.c528a88eb0a942342d0229efb2891e98.jpeg?odnHeight=200&odnWidth=200&odnBg=ffffff  \n",
      "9   https://i5.walmartimages.com/asr/05b099f6-4db7-4f9c-8c2d-1fd7b398a3d7.006f2eef96db6082405bfdabfbdda966.jpeg?odnHeight=200&odnWidth=200&odnBg=ffffff    \n",
      "10  https://i5.walmartimages.com/asr/5e0cfc78-34ab-4dff-926f-2f848ad3e3e4.b10da85a00188e40dad2592362601c66.jpeg?odnHeight=200&odnWidth=200&odnBg=ffffff    \n",
      "11  https://i5.walmartimages.com/asr/6b14b93f-d990-40b0-8111-94ba1f1b216b_1.caae830724bbff26f3fc519644f9dc5f.jpeg?odnHeight=200&odnWidth=200&odnBg=ffffff  \n",
      "12  https://i5.walmartimages.com/asr/592965b7-666e-4964-bb8f-0abfbd4a162e_1.f66c80a214ebe6f19b03ab9441794d40.jpeg?odnHeight=200&odnWidth=200&odnBg=ffffff  \n",
      "13  https://i5.walmartimages.com/asr/8d00c11c-048c-46b2-8740-89f29ee67c40_1.430c2d00b3cd9d45dfc60cbbb62cc0f8.jpeg?odnHeight=200&odnWidth=200&odnBg=ffffff  \n",
      "14  https://i5.walmartimages.com/asr/e6ef8023-83f1-4958-ae4e-9c7f068be898_2.e40afe8fa7feb2861afa6dfbe942f7b3.png?odnHeight=200&odnWidth=200&odnBg=ffffff   \n",
      "15  https://i5.walmartimages.com/asr/1536b704-c950-4485-9308-701aa83747a0_1.2f67f64466869102e1291e757dd134bf.jpeg?odnHeight=200&odnWidth=200&odnBg=ffffff  \n",
      "16  https://i5.walmartimages.com/asr/55053ce9-fbf6-4a74-8d68-a43ed225d620_1.6093773dca2d152f32e64967d7387f85.jpeg?odnHeight=200&odnWidth=200&odnBg=ffffff  \n",
      "17  https://i5.walmartimages.com/asr/6f2e4a7d-32a8-424a-b25d-aac121ea6d26.1d88be6978c24c1dacd835669be28884.jpeg?odnHeight=200&odnWidth=200&odnBg=ffffff    \n",
      "18  https://i5.walmartimages.com/asr/242aa4d9-0aa7-400f-ad81-b72955b583e0_1.3875edff74502d2d0f15cb7c6abea4d2.jpeg?odnHeight=200&odnWidth=200&odnBg=ffffff  \n",
      "19  https://i5.walmartimages.com/asr/a29a0e04-6183-4177-a14f-822f1fdb8983_2.cd86917e7d87fc5dbc020874925e5361.png?odnHeight=200&odnWidth=200&odnBg=ffffff   \n",
      "20  https://i5.walmartimages.com/asr/3a80d210-6ebd-49e2-b95b-682b1a0f4bb7.abe61c49dffd92f04ddd151a2488145d.jpeg?odnHeight=200&odnWidth=200&odnBg=ffffff    \n",
      "21  https://i5.walmartimages.com/asr/e81cf26e-bcee-4243-b8ac-df3f5581aa90_1.fdea12e28efa3cc050338d501730fd57.png?odnHeight=200&odnWidth=200&odnBg=ffffff   \n",
      "22  https://i5.walmartimages.com/asr/37e2ca99-0fa1-49b7-b6eb-e1b8a4278cca_1.4ef2a0b6a21e1c8980aa78b35fe8d14d.jpeg?odnHeight=200&odnWidth=200&odnBg=ffffff  \n",
      "23  https://i5.walmartimages.com/asr/95869e4c-fe3a-447a-a60d-660a95021821.1efdde83fd021a8cd6fd1caa7bc5e618.jpeg?odnHeight=200&odnWidth=200&odnBg=ffffff    \n",
      "24  https://i5.walmartimages.com/asr/7cffb653-5abd-4daf-b91c-cfb8d8db00f9_7.2ede5af44b0f5ad5e75f7e274d51cd73.png?odnHeight=200&odnWidth=200&odnBg=ffffff   \n",
      "25  https://i5.walmartimages.com/asr/508ba153-a7b5-4195-a90b-0d30fb8e26d1.9bfa8229d764f42cae5d24fd8ac200c4.jpeg?odnHeight=200&odnWidth=200&odnBg=ffffff    \n",
      "26  https://i5.walmartimages.com/asr/a6cace6d-6d8c-4056-9559-1d7bb86841da_2.f2825456cb7d7a155951f90950dcd2fe.jpeg?odnHeight=200&odnWidth=200&odnBg=ffffff  \n",
      "27  https://i5.walmartimages.com/asr/191687d3-dc26-4c15-9941-18fed91e8c12_1.d7ffb9434ed79e52d46a59c3df01b879.jpeg?odnHeight=200&odnWidth=200&odnBg=ffffff  \n",
      "28  https://i5.walmartimages.com/asr/6b75a23a-0f88-4ad8-afda-26a8bb1834c1_1.6f08e1b7eef5446681c72e5f2f80cac1.png?odnHeight=200&odnWidth=200&odnBg=ffffff   \n",
      "29  https://i5.walmartimages.com/asr/39eccbcd-0f75-49f6-870d-1a642f17b7d2_1.3b292e0e43daf16f8637ae136b5531be.jpeg?odnHeight=200&odnWidth=200&odnBg=ffffff  \n",
      "30  https://i5.walmartimages.com/asr/d971c769-b49b-4bb7-9dd1-f8b21fc0c7bb_1.105b02a025646af2f996c7cdb48ff328.jpeg?odnHeight=200&odnWidth=200&odnBg=ffffff  \n",
      "31  https://i5.walmartimages.com/asr/7375bef5-4854-4425-b325-372aff44b009_1.e72b283643e81a7a6b79b0102a405f6e.jpeg?odnHeight=200&odnWidth=200&odnBg=ffffff  \n",
      "32  https://i5.walmartimages.com/asr/3c543400-a322-4b00-b0a5-9d92832d4f24.1de52f83de0c0ba6b0ec433ea9d87cc4.jpeg?odnHeight=200&odnWidth=200&odnBg=ffffff    \n",
      "33  https://i5.walmartimages.com/asr/a933de93-1d89-4ec7-8e63-f3a71c8cbbe9_1.154ee15a4e98634de9c9e551d9e09a23.jpeg?odnHeight=200&odnWidth=200&odnBg=ffffff  \n",
      "34  https://i5.walmartimages.com/asr/d324bac3-b9b5-4a1d-a205-a51df7f48871_1.8629771c7bf87c3612edee63afc0e0bc.jpeg?odnHeight=200&odnWidth=200&odnBg=ffffff  \n",
      "35  https://i5.walmartimages.com/asr/e7f32ba4-6089-4da6-926f-4d8486d80dff.18ea0ddab4f4533bf2af349673cc5473.jpeg?odnHeight=200&odnWidth=200&odnBg=ffffff    \n",
      "36  https://i5.walmartimages.com/asr/ce00adee-774c-4e85-989e-b31ca75c93f8.519db1462c5d72b5beb99cb4c7a31406.jpeg?odnHeight=200&odnWidth=200&odnBg=ffffff    \n",
      "37  https://i5.walmartimages.com/asr/e301d24e-240a-45fb-9424-51740c8ae47e.55f394cb9fb292966c79868e9ab8e6a7.png?odnHeight=200&odnWidth=200&odnBg=ffffff     \n",
      "38  https://i5.walmartimages.com/asr/bfd83785-b986-4444-8a30-b7bf10c845c2_1.bacff0364d82670022c3c7bdfb544f9a.jpeg?odnHeight=200&odnWidth=200&odnBg=ffffff  \n",
      "39  https://i5.walmartimages.com/asr/e1f19c10-b835-4ef1-9eb5-2a72b361f51d_1.86148d74e26e55d85d2f9bb8beaa5cd1.jpeg?odnHeight=200&odnWidth=200&odnBg=ffffff  \n"
     ]
    }
   ],
   "source": [
    "print(df)"
   ]
  },
  {
   "cell_type": "markdown",
   "metadata": {},
   "source": [
    "# Going for full Beauty"
   ]
  },
  {
   "cell_type": "code",
   "execution_count": 51,
   "metadata": {},
   "outputs": [
    {
     "name": "stdout",
     "output_type": "stream",
     "text": [
      "1\n",
      "2\n",
      "3\n",
      "4\n",
      "5\n",
      "6\n",
      "7\n",
      "8\n",
      "9\n",
      "10\n",
      "11\n",
      "12\n",
      "13\n",
      "14\n",
      "15\n",
      "16\n",
      "17\n",
      "18\n",
      "19\n",
      "20\n",
      "21\n",
      "22\n",
      "23\n",
      "24\n",
      "25\n"
     ]
    }
   ],
   "source": [
    "pnames=[]\n",
    "pprices=[]\n",
    "pimages=[]\n",
    "import pandas as pd\n",
    "\n",
    "for i in range(1,26):\n",
    "    print(i)\n",
    "    filename = r'C:\\Users\\STARK\\Desktop\\Harshit\\Web site projects\\Walmart Scrapper\\DownData\\Auto & Tire\\Auto & Tire'+str(i)+'.html'\n",
    "    with open(filename, 'r',encoding='utf8') as f:\n",
    "        contents = f.read()\n",
    "        soup = BeautifulSoup(contents)\n",
    "    temp = soup.find('div',attrs = {'class':'search-product-result'})\n",
    "    temp = temp.findAll('div',attrs = {'class':'search-result-gridview-item clearfix arrange-fill'})\n",
    "    \n",
    "    for i in range(0,len(temp)):\n",
    "    \n",
    "        name=temp[i].find('a',attrs = {'class':'product-title-link line-clamp line-clamp-2 truncate-title'}).text\n",
    "        pnames.append(name)\n",
    "\n",
    "        if temp[i].find('span',attrs = {'class':'price price-range'}):\n",
    "            p=temp[i].findAll('span',attrs = {'class':'price-group'})\n",
    "            price=(p[0].text+' - '+p[1].text)\n",
    "\n",
    "        else:\n",
    "            price=temp[i].find('span',attrs = {'class':'price-group'}).text\n",
    "\n",
    "        pprices.append(price)\n",
    "        image = temp[i].find('img')['data-image-src']\n",
    "        pimages.append(image)\n",
    "    \n",
    "\n",
    "df=pd.DataFrame()\n",
    "df['Product Name']=pnames\n",
    "df['Price']=pprices\n",
    "df['Link']=pimages\n",
    "    "
   ]
  },
  {
   "cell_type": "markdown",
   "metadata": {},
   "source": [
    "# SAVE TO CSV"
   ]
  },
  {
   "cell_type": "code",
   "execution_count": 52,
   "metadata": {},
   "outputs": [],
   "source": [
    "df.to_csv('file1.csv')"
   ]
  },
  {
   "cell_type": "code",
   "execution_count": 112,
   "metadata": {},
   "outputs": [],
   "source": [
    "# import pyautogui\n",
    "# os.mkdir('Auto')\n",
    "# category ='Auto'\n",
    "# i=1\n",
    "# # pyautogui.typewrite(r'C:\\Users\\STARK\\Desktop\\Harshit\\Web site projects\\Walmart Scrapper\\DownData\\\\'+category+'\\\\'+str(i)+'.html')\n",
    "# path_head = r'C:\\Users\\STARK\\Desktop\\Harshit\\Web site projects\\Walmart Scrapper\\DownData'\n",
    "# path_tail = category+str(i)+'.html'\n",
    "# print(r'{}\\{}'.format(path_head,path_tail))"
   ]
  },
  {
   "cell_type": "code",
   "execution_count": null,
   "metadata": {},
   "outputs": [],
   "source": []
  },
  {
   "cell_type": "code",
   "execution_count": null,
   "metadata": {},
   "outputs": [],
   "source": [
    "\n"
   ]
  },
  {
   "cell_type": "code",
   "execution_count": null,
   "metadata": {},
   "outputs": [],
   "source": []
  },
  {
   "cell_type": "code",
   "execution_count": null,
   "metadata": {},
   "outputs": [],
   "source": []
  }
 ],
 "metadata": {
  "kernelspec": {
   "display_name": "Python 3",
   "language": "python",
   "name": "python3"
  },
  "language_info": {
   "codemirror_mode": {
    "name": "ipython",
    "version": 3
   },
   "file_extension": ".py",
   "mimetype": "text/x-python",
   "name": "python",
   "nbconvert_exporter": "python",
   "pygments_lexer": "ipython3",
   "version": "3.8.5"
  }
 },
 "nbformat": 4,
 "nbformat_minor": 2
}
