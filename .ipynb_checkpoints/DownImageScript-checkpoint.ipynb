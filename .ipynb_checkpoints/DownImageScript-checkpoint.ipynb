{
 "cells": [
  {
   "cell_type": "code",
   "execution_count": 1,
   "metadata": {},
   "outputs": [],
   "source": [
    "import urllib\n",
    "import pandas as pd"
   ]
  },
  {
   "cell_type": "code",
   "execution_count": 8,
   "metadata": {},
   "outputs": [
    {
     "data": {
      "text/plain": [
       "24419"
      ]
     },
     "execution_count": 8,
     "metadata": {},
     "output_type": "execute_result"
    }
   ],
   "source": [
    "df = pd.read_csv (r'/home/harshit/Desktop/Freelancing/Walmart/DatawithCat.csv')\n",
    "list1=[]\n",
    "list1=df.get('Link')\n",
    "len(list1)"
   ]
  },
  {
   "cell_type": "code",
   "execution_count": null,
   "metadata": {},
   "outputs": [],
   "source": [
    "# url = \"https://i5.walmartimages.com/asr/ef0b484c-4f90-4b50-9f37-e07c7f8f1dca_1.9ab85ad7317b3bf03022768996480c08.jpeg?odnHeight=612&odnWidth=612&odnBg=ffffff\"\n",
    "# urllib.request.urlretrieve(url, \"0.jpg\")"
   ]
  },
  {
   "cell_type": "code",
   "execution_count": 2,
   "metadata": {},
   "outputs": [],
   "source": [
    "for i in range(0,5):\n",
    "    url=list1[i]\n",
    "    urllib.request.urlretrieve(url, str(i)+\".html\")\n",
    "    \n",
    "# 100 images: Time: 2 minute Size: 1 mb"
   ]
  },
  {
   "cell_type": "code",
   "execution_count": null,
   "metadata": {},
   "outputs": [],
   "source": []
  }
 ],
 "metadata": {
  "kernelspec": {
   "display_name": "Python 3",
   "language": "python",
   "name": "python3"
  },
  "language_info": {
   "codemirror_mode": {
    "name": "ipython",
    "version": 3
   },
   "file_extension": ".py",
   "mimetype": "text/x-python",
   "name": "python",
   "nbconvert_exporter": "python",
   "pygments_lexer": "ipython3",
   "version": "3.8.5"
  }
 },
 "nbformat": 4,
 "nbformat_minor": 4
}
